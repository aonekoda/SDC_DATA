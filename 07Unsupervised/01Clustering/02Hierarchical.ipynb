{
 "cells": [
  {
   "cell_type": "markdown",
   "metadata": {},
   "source": [
    "# 군집 분석 - 병합 군집, Hierarchical Clustering \n",
    "---\n",
    "* 주어진 데이터를 순차적으로 가까운 값들끼리 묶어 주는 병합방법을 사용한다.  \n",
    "* 비슷한 군집끼리 묶어 가면서 최종 적으로는 하나의 케이스가 될때까지 군집을 묶는 클러스터링 알고리즘이다.\n",
    "* 계층적 군집 분석은 Dendrogram이라는 그래프를 이용하면 손쉽게 시각화 할 수 있다."
   ]
  },
  {
   "cell_type": "code",
   "execution_count": 1,
   "metadata": {},
   "outputs": [],
   "source": [
    "from sklearn import datasets\n",
    "import matplotlib.pyplot as plt\n",
    "import pandas as pd\n",
    "import numpy as np\n",
    "\n",
    "%matplotlib inline"
   ]
  },
  {
   "cell_type": "markdown",
   "metadata": {},
   "source": [
    "###  Iris 데이터 셋을 사용"
   ]
  },
  {
   "cell_type": "code",
   "execution_count": 2,
   "metadata": {},
   "outputs": [],
   "source": [
    "iris = datasets.load_iris()\n",
    "X = iris.data\n",
    "y = iris.target\n"
   ]
  },
  {
   "cell_type": "markdown",
   "metadata": {},
   "source": [
    "# 사이킷런에서 병합 군집 적용\n",
    "\n",
    "클러스터를 측정하는 방법을 지정한다. \n",
    "\n",
    "* ward : 기본값. 클러스터 내의 분산을 가장 작게 증가 시키는 두 클러스터를 합친다. 비교적 비슷한 클러스터가 생성된다.\n",
    "* average : 클러스터 포인트 사이의 평균 거리가 가장 짧은 두 클러스터를 합친다.\n",
    "* complete : 최대 연결법이라고도 한다. 클러스터 포인트 사이의 최대 거리가 가장 짧은 두 클러스터를 합친다."
   ]
  },
  {
   "cell_type": "code",
   "execution_count": 3,
   "metadata": {},
   "outputs": [
    {
     "name": "stdout",
     "output_type": "stream",
     "text": [
      "클러스터 레이블: [147 131 115 136 143  85  92 148 137 146 144  97 123  84 105 107 132 114\n",
      " 101 142  98  89 119 120 135 117 118  67  77 141  76 138  82  78 108 129\n",
      "  75 111 112 140 128  91  94 106 121  99 116  48  81 126 104 103  71  59\n",
      " 109  90 139  69  44  93  95 145  86 130 127  64 122  96  52 110  47  73\n",
      "  70  79  58  57 149 124  55 133  34 113 134  42  83 125  88  63  60  45\n",
      "  40  41  51 102  61  66 100  53  65  62  80  74  28  49  39  50  20  24\n",
      "  38  68  56  29  30  46  23  36  33  16  54  19  27  37  22  31  87   9\n",
      "  43  32  72  35  14  21  26  17  25  18  13  11  15  10  12   5   8   4\n",
      "   6   7   3   2   1   0]\n"
     ]
    }
   ],
   "source": [
    "from sklearn.cluster import AgglomerativeClustering\n",
    "# setting distance_threshold=0 ensures we compute the full tree.\n",
    "ac = AgglomerativeClustering(n_clusters=None, distance_threshold=0,compute_full_tree=True,\n",
    "                             affinity='euclidean', \n",
    "                             linkage='ward')\n",
    "\n",
    "\n",
    "labels = ac.fit_predict(X)\n",
    "print('클러스터 레이블: %s' % labels)"
   ]
  },
  {
   "cell_type": "code",
   "execution_count": 4,
   "metadata": {},
   "outputs": [],
   "source": [
    "# scipy를 사용하여 생성된 병합군집의 결과를 수형도(dendrogram)로 그린다.\n",
    "\n",
    "def plot_dendrogram(model):\n",
    "    # Create linkage matrix and then plot the dendrogram\n",
    "\n",
    "    # create the counts of samples under each node\n",
    "    counts = np.zeros(model.children_.shape[0])\n",
    "    n_samples = len(model.labels_)\n",
    "\n",
    "    linkage_matrix = np.column_stack([model.children_, model.distances_,\n",
    "                                      counts]).astype(float)\n",
    "\n",
    "    # Plot the corresponding dendrogram\n",
    "    dendrogram(linkage_matrix)"
   ]
  },
  {
   "cell_type": "code",
   "execution_count": 5,
   "metadata": {},
   "outputs": [],
   "source": [
    "model = ac.fit(X)"
   ]
  },
  {
   "cell_type": "code",
   "execution_count": 6,
   "metadata": {},
   "outputs": [
    {
     "data": {
      "image/png": "[encoded data removed]",
      "text/plain": [
       "<Figure size 1080x360 with 1 Axes>"
      ]
     },
     "metadata": {
      "needs_background": "light"
     },
     "output_type": "display_data"
    }
   ],
   "source": [
    "from scipy.cluster.hierarchy import dendrogram\n",
    "\n",
    "plt.figure(figsize=(15,5))\n",
    "plt.title('Hierarchical Clustering Dendrogram')\n",
    "# plot the top three levels of the dendrogram\n",
    "plot_dendrogram(model)\n",
    "\n",
    "plt.show()"
   ]
  },
  {
   "cell_type": "code",
   "execution_count": null,
   "metadata": {},
   "outputs": [],
   "source": []
  }
 ],
 "metadata": {
  "kernelspec": {
   "display_name": "Python 3",
   "language": "python",
   "name": "python3"
  },
  "language_info": {
   "codemirror_mode": {
    "name": "ipython",
    "version": 3
   },
   "file_extension": ".py",
   "mimetype": "text/x-python",
   "name": "python",
   "nbconvert_exporter": "python",
   "pygments_lexer": "ipython3",
   "version": "3.7.6"
  }
 },
 "nbformat": 4,
 "nbformat_minor": 2
}
