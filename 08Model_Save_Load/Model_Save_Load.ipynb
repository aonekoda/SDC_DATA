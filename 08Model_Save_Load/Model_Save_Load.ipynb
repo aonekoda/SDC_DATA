{
  "nbformat": 4,
  "nbformat_minor": 0,
  "metadata": {
    "colab": {
      "name": "Model_Save_Load.ipynb",
      "provenance": [],
      "collapsed_sections": []
    },
    "kernelspec": {
      "display_name": "Python 3",
      "language": "python",
      "name": "python3"
    },
    "language_info": {
      "codemirror_mode": {
        "name": "ipython",
        "version": 3
      },
      "file_extension": ".py",
      "mimetype": "text/x-python",
      "name": "python",
      "nbconvert_exporter": "python",
      "pygments_lexer": "ipython3",
      "version": "3.7.6"
    }
  },
  "cells": [
    {
      "cell_type": "markdown",
      "metadata": {
        "id": "18PFRkiCj481"
      },
      "source": [
        "# 훈련된 모형의 저장과 복원\n",
        "* 모형을 훈련한 후 모형을 저장하고 애플리케이션에 필요할 때 이를 다시 복원 할 수 있어야 한다.\n",
        "* 모형을 피클(pickle)로 저장한다.\n",
        "* 피클이란? 파이썬 객체 자체를 binary 파일로 저장하는 것을 말한다.\n",
        "* 사이킷런에는 피클 기능을 확장한 joblib 모듈을 제공한다.\n",
        "* 주의 할 점 – 저장된 모델이 사이킷런 버전 간에 호환되지 않는지 주의해야 한다. 피클을 사용하기 때문에 버전이 맞지 않으면 로드시 에러가 발생한다.\n"
      ]
    },
    {
      "cell_type": "markdown",
      "metadata": {
        "id": "Vtx9N1zd4I4a"
      },
      "source": [
        "### Pickle 파일의 입출력\n",
        "\n",
        "* pickle 파일을 직접 사용하여 모형을 저장/복원할 수 있다.\n"
      ]
    },
    {
      "cell_type": "code",
      "metadata": {
        "id": "2yXdbFa-kUK6"
      },
      "source": [
        "from sklearn.ensemble import RandomForestClassifier\n",
        "from sklearn import datasets"
      ],
      "execution_count": null,
      "outputs": []
    },
    {
      "cell_type": "code",
      "metadata": {
        "id": "2zOPDv3wyUkq"
      },
      "source": [
        "iris = datasets.load_iris()\n",
        "features = iris.data\n",
        "target = iris.target"
      ],
      "execution_count": null,
      "outputs": []
    },
    {
      "cell_type": "code",
      "metadata": {
        "id": "0Kdv5pzByvyu"
      },
      "source": [
        "classifier = RandomForestClassifier()\n",
        "model = classifier.fit(features, target)"
      ],
      "execution_count": null,
      "outputs": []
    },
    {
      "cell_type": "markdown",
      "metadata": {
        "id": "wTjYMb_94I4n"
      },
      "source": [
        "## Pickle model save"
      ]
    },
    {
      "cell_type": "code",
      "metadata": {
        "id": "hH7m4zi54I4n"
      },
      "source": [
        "import pickle"
      ],
      "execution_count": null,
      "outputs": []
    },
    {
      "cell_type": "code",
      "metadata": {
        "id": "8UcybPMm4I4r"
      },
      "source": [
        "with open('model.pickle', 'wb') as f:\n",
        "    pickle.dump(model, f)"
      ],
      "execution_count": null,
      "outputs": []
    },
    {
      "cell_type": "markdown",
      "metadata": {
        "id": "l6Wltvvb4I4u"
      },
      "source": [
        "## Pickle model load"
      ]
    },
    {
      "cell_type": "code",
      "metadata": {
        "id": "2rqa1WyF4I4u",
        "outputId": "e6e84fa5-5d8a-4fa2-c02e-12874df896d6"
      },
      "source": [
        "with open('model.pickle', 'rb') as f:\n",
        "    loaded_model = pickle.load(f)\n",
        "    \n",
        "print(loaded_model)"
      ],
      "execution_count": null,
      "outputs": [
        {
          "output_type": "stream",
          "text": [
            "RandomForestClassifier(bootstrap=True, ccp_alpha=0.0, class_weight=None,\n",
            "                       criterion='gini', max_depth=None, max_features='auto',\n",
            "                       max_leaf_nodes=None, max_samples=None,\n",
            "                       min_impurity_decrease=0.0, min_impurity_split=None,\n",
            "                       min_samples_leaf=1, min_samples_split=2,\n",
            "                       min_weight_fraction_leaf=0.0, n_estimators=100,\n",
            "                       n_jobs=None, oob_score=False, random_state=None,\n",
            "                       verbose=0, warm_start=False)\n"
          ],
          "name": "stdout"
        }
      ]
    },
    {
      "cell_type": "markdown",
      "metadata": {
        "id": "kkTFkrbB4I4y"
      },
      "source": [
        "---"
      ]
    },
    {
      "cell_type": "markdown",
      "metadata": {
        "id": "O_eJlVmXzdEg"
      },
      "source": [
        "## Model save\n"
      ]
    },
    {
      "cell_type": "code",
      "metadata": {
        "id": "DZh530Sw4I4z"
      },
      "source": [
        "# import joblib  # version 0.23 이상\n",
        "import sklearn.externals import joblib"
      ],
      "execution_count": null,
      "outputs": []
    },
    {
      "cell_type": "code",
      "metadata": {
        "id": "Ovq3Yq_SzJAx",
        "outputId": "31a05fac-6b7b-4c1c-af94-def62229cd8d",
        "colab": {
          "base_uri": "https://localhost:8080/",
          "height": 34
        }
      },
      "source": [
        "joblib.dump(model, 'model.pkl')"
      ],
      "execution_count": null,
      "outputs": [
        {
          "output_type": "execute_result",
          "data": {
            "text/plain": [
              "['model.pkl']"
            ]
          },
          "metadata": {
            "tags": []
          },
          "execution_count": 4
        }
      ]
    },
    {
      "cell_type": "markdown",
      "metadata": {
        "id": "UYjFC5MhzXlB"
      },
      "source": [
        "## Model Load"
      ]
    },
    {
      "cell_type": "code",
      "metadata": {
        "id": "wBpn-xIPjxKM",
        "outputId": "8a02bd71-3e22-4cbd-c5f3-4a232a0c6efc",
        "colab": {
          "base_uri": "https://localhost:8080/",
          "height": 217
        }
      },
      "source": [
        "loaded_model = joblib.load(\"model.pkl\")\n",
        "print(loaded_model)"
      ],
      "execution_count": null,
      "outputs": [
        {
          "output_type": "stream",
          "text": [
            "RandomForestClassifier(bootstrap=True, ccp_alpha=0.0, class_weight=None,\n",
            "                       criterion='gini', max_depth=None, max_features='auto',\n",
            "                       max_leaf_nodes=None, max_samples=None,\n",
            "                       min_impurity_decrease=0.0, min_impurity_split=None,\n",
            "                       min_samples_leaf=1, min_samples_split=2,\n",
            "                       min_weight_fraction_leaf=0.0, n_estimators=100,\n",
            "                       n_jobs=None, oob_score=False, random_state=None,\n",
            "                       verbose=0, warm_start=False)\n"
          ],
          "name": "stdout"
        }
      ]
    },
    {
      "cell_type": "code",
      "metadata": {
        "id": "-b35DiwHztVH",
        "outputId": "e93fd5f1-583d-4b6d-b330-f79edb0d4b88",
        "colab": {
          "base_uri": "https://localhost:8080/",
          "height": 34
        }
      },
      "source": [
        "new_obs = [[5.2, 3.2, 1.1, 0.1]]\n",
        "loaded_model.predict(new_obs)"
      ],
      "execution_count": null,
      "outputs": [
        {
          "output_type": "execute_result",
          "data": {
            "text/plain": [
              "array([0])"
            ]
          },
          "metadata": {
            "tags": []
          },
          "execution_count": 6
        }
      ]
    }
  ]
}