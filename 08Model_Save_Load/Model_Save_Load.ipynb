{
  "nbformat": 4,
  "nbformat_minor": 0,
  "metadata": {
    "colab": {
      "name": "Model_Save_Load.ipynb",
      "provenance": [],
      "collapsed_sections": []
    },
    "kernelspec": {
      "display_name": "Python 3",
      "language": "python",
      "name": "python3"
    },
    "language_info": {
      "codemirror_mode": {
        "name": "ipython",
        "version": 3
      },
      "file_extension": ".py",
      "mimetype": "text/x-python",
      "name": "python",
      "nbconvert_exporter": "python",
      "pygments_lexer": "ipython3",
      "version": "3.7.6"
    }
  },
  "cells": [
    {
      "cell_type": "markdown",
      "metadata": {
        "id": "18PFRkiCj481"
      },
      "source": [
        "# 훈련된 모형의 저장과 복원\n",
        "* 모형을 훈련한 후 모형을 저장하고 애플리케이션에 필요할 때 이를 다시 복원 할 수 있어야 한다.\n",
        "* 모형을 피클(pickle)로 저장한다.\n",
        "* 피클이란? 파이썬 객체 자체를 binary 파일로 저장하는 것을 말한다.\n",
        "* 사이킷런에는 피클 기능을 확장한 joblib 모듈을 제공한다.\n",
        "* 주의 할 점 – 저장된 모델이 사이킷런 버전 간에 호환되지 않는지 주의해야 한다. 피클을 사용하기 때문에 버전이 맞지 않으면 로드시 에러가 발생한다.\n"
      ]
    },
    {
      "cell_type": "code",
      "metadata": {
        "id": "2yXdbFa-kUK6"
      },
      "source": [
        "from sklearn.ensemble import RandomForestClassifier\n",
        "from sklearn import datasets"
      ],
      "execution_count": 5,
      "outputs": []
    },
    {
      "cell_type": "code",
      "metadata": {
        "id": "2zOPDv3wyUkq"
      },
      "source": [
        "iris = datasets.load_iris()\n",
        "features = iris.data\n",
        "target = iris.target"
      ],
      "execution_count": 6,
      "outputs": []
    },
    {
      "cell_type": "code",
      "metadata": {
        "id": "0Kdv5pzByvyu"
      },
      "source": [
        "classifier = RandomForestClassifier()\n",
        "model = classifier.fit(features, target)"
      ],
      "execution_count": 7,
      "outputs": []
    },
    {
      "cell_type": "markdown",
      "metadata": {
        "id": "O_eJlVmXzdEg"
      },
      "source": [
        "## Model save\n"
      ]
    },
    {
      "cell_type": "code",
      "metadata": {
        "id": "DZh530Sw4I4z"
      },
      "source": [
        "#import joblib  # version 0.23 이상\n",
        "import sklearn.externals import joblib"
      ],
      "execution_count": 8,
      "outputs": []
    },
    {
      "cell_type": "code",
      "metadata": {
        "id": "Ovq3Yq_SzJAx",
        "colab": {
          "base_uri": "https://localhost:8080/"
        },
        "outputId": "e56084cc-5afe-4be2-a845-25f43209e2d4"
      },
      "source": [
        "joblib.dump(model, 'model.pkl')"
      ],
      "execution_count": 9,
      "outputs": [
        {
          "output_type": "execute_result",
          "data": {
            "text/plain": [
              "['model.pkl']"
            ]
          },
          "metadata": {
            "tags": []
          },
          "execution_count": 9
        }
      ]
    },
    {
      "cell_type": "markdown",
      "metadata": {
        "id": "UYjFC5MhzXlB"
      },
      "source": [
        "## Model Load"
      ]
    },
    {
      "cell_type": "code",
      "metadata": {
        "id": "wBpn-xIPjxKM",
        "colab": {
          "base_uri": "https://localhost:8080/"
        },
        "outputId": "5f7bf3be-c893-4536-fcf2-0e1ba8e752dd"
      },
      "source": [
        "loaded_model = joblib.load(\"model.pkl\")\n",
        "print(loaded_model)"
      ],
      "execution_count": 10,
      "outputs": [
        {
          "output_type": "stream",
          "text": [
            "RandomForestClassifier(bootstrap=True, ccp_alpha=0.0, class_weight=None,\n",
            "                       criterion='gini', max_depth=None, max_features='auto',\n",
            "                       max_leaf_nodes=None, max_samples=None,\n",
            "                       min_impurity_decrease=0.0, min_impurity_split=None,\n",
            "                       min_samples_leaf=1, min_samples_split=2,\n",
            "                       min_weight_fraction_leaf=0.0, n_estimators=100,\n",
            "                       n_jobs=None, oob_score=False, random_state=None,\n",
            "                       verbose=0, warm_start=False)\n"
          ],
          "name": "stdout"
        }
      ]
    },
    {
      "cell_type": "code",
      "metadata": {
        "id": "-b35DiwHztVH",
        "colab": {
          "base_uri": "https://localhost:8080/"
        },
        "outputId": "92f7c29c-4c30-45c5-e487-f999bf44c17c"
      },
      "source": [
        "new_obs = [[5.2, 3.2, 1.1, 0.1]]\n",
        "loaded_model.predict(new_obs)"
      ],
      "execution_count": 11,
      "outputs": [
        {
          "output_type": "execute_result",
          "data": {
            "text/plain": [
              "array([0])"
            ]
          },
          "metadata": {
            "tags": []
          },
          "execution_count": 11
        }
      ]
    }
  ]
}