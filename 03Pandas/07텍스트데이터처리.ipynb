{
  "nbformat": 4,
  "nbformat_minor": 0,
  "metadata": {
    "kernelspec": {
      "display_name": "Python 3",
      "language": "python",
      "name": "python3"
    },
    "language_info": {
      "codemirror_mode": {
        "name": "ipython",
        "version": 3
      },
      "file_extension": ".py",
      "mimetype": "text/x-python",
      "name": "python",
      "nbconvert_exporter": "python",
      "pygments_lexer": "ipython3",
      "version": "3.7.6"
    },
    "colab": {
      "name": "07텍스트데이터처리.ipynb",
      "provenance": []
    }
  },
  "cells": [
    {
      "cell_type": "markdown",
      "metadata": {
        "id": "wZFjyz7D41iY"
      },
      "source": [
        "# 텍스트 데이터 처리\n",
        "\n",
        "* 텍스트 연산은 대부분 문자열 객체의 내장 메서드를 통해 간단하게 처리 할 수 있다. \n",
        "* 복잡한 형태의 패턴 매칭이나 텍스트 조작은 정규 표현식을 필요로 한다.\n",
        "* pandas는 배열 데이터 전체에 쉽게 정규 표현식을 적용할 수 있는 기능을 제공한다. \n"
      ]
    },
    {
      "cell_type": "code",
      "metadata": {
        "id": "en090-xA41iZ"
      },
      "source": [
        "import pandas as pd\n",
        "import numpy as np\n",
        "import re"
      ],
      "execution_count": 3,
      "outputs": []
    },
    {
      "cell_type": "code",
      "metadata": {
        "id": "9p9ruIlS41ia",
        "outputId": "a13b8980-46d9-4357-9a60-5c81cdbd9393",
        "colab": {
          "base_uri": "https://localhost:8080/",
          "height": 36
        }
      },
      "source": [
        "pd.__version__"
      ],
      "execution_count": 4,
      "outputs": [
        {
          "output_type": "execute_result",
          "data": {
            "application/vnd.google.colaboratory.intrinsic+json": {
              "type": "string"
            },
            "text/plain": [
              "'1.1.4'"
            ]
          },
          "metadata": {
            "tags": []
          },
          "execution_count": 4
        }
      ]
    },
    {
      "cell_type": "markdown",
      "metadata": {
        "id": "d-2xve6V41ie"
      },
      "source": [
        "## Series의 .str 속성 사용하기"
      ]
    },
    {
      "cell_type": "markdown",
      "metadata": {
        "id": "Vo9dyahf41if"
      },
      "source": [
        "실습에 사용할 데이터 프레임을 생성한다."
      ]
    },
    {
      "cell_type": "code",
      "metadata": {
        "id": "8inB1LXW41if",
        "outputId": "2ff4d488-92ea-408c-fc7c-b762176ce35b",
        "colab": {
          "base_uri": "https://localhost:8080/",
          "height": 139
        }
      },
      "source": [
        "df = pd.DataFrame({'email':['sunny@gmail.com', \n",
        "                            '365@NAVER.COM', \n",
        "                            'cinema@yahoo.co.kr']})\n",
        "df"
      ],
      "execution_count": 5,
      "outputs": [
        {
          "output_type": "execute_result",
          "data": {
            "text/html": [
              "<div>\n",
              "<style scoped>\n",
              "    .dataframe tbody tr th:only-of-type {\n",
              "        vertical-align: middle;\n",
              "    }\n",
              "\n",
              "    .dataframe tbody tr th {\n",
              "        vertical-align: top;\n",
              "    }\n",
              "\n",
              "    .dataframe thead th {\n",
              "        text-align: right;\n",
              "    }\n",
              "</style>\n",
              "<table border=\"1\" class=\"dataframe\">\n",
              "  <thead>\n",
              "    <tr style=\"text-align: right;\">\n",
              "      <th></th>\n",
              "      <th>email</th>\n",
              "    </tr>\n",
              "  </thead>\n",
              "  <tbody>\n",
              "    <tr>\n",
              "      <th>0</th>\n",
              "      <td>sunny@gmail.com</td>\n",
              "    </tr>\n",
              "    <tr>\n",
              "      <th>1</th>\n",
              "      <td>365@NAVER.COM</td>\n",
              "    </tr>\n",
              "    <tr>\n",
              "      <th>2</th>\n",
              "      <td>cinema@yahoo.co.kr</td>\n",
              "    </tr>\n",
              "  </tbody>\n",
              "</table>\n",
              "</div>"
            ],
            "text/plain": [
              "                email\n",
              "0     sunny@gmail.com\n",
              "1       365@NAVER.COM\n",
              "2  cinema@yahoo.co.kr"
            ]
          },
          "metadata": {
            "tags": []
          },
          "execution_count": 5
        }
      ]
    },
    {
      "cell_type": "markdown",
      "metadata": {
        "id": "cfnGiIeu41ig"
      },
      "source": [
        "### 앞, 뒤 공백 등을 제거\n",
        "\n",
        "* `str.strip()` : 앞 뒤 공백을 제거\n",
        "* `str.lstrip()` : 앞 공백을 제거\n",
        "* `str.rstrip()` : 뒤 공백을 제거"
      ]
    },
    {
      "cell_type": "code",
      "metadata": {
        "id": "zoWknw7N41ig"
      },
      "source": [
        "df['email_strip']  = df['email'].str.strip()  # 앞 뒤 공백을 제거\n",
        "df['email_lstrip'] = df['email'].str.lstrip() # 앞 공백을 제거\n",
        "df['email_rstrip'] = df['email'].str.rstrip() # 뒤 공백을 제거"
      ],
      "execution_count": 6,
      "outputs": []
    },
    {
      "cell_type": "code",
      "metadata": {
        "id": "tsiXpupM41ig",
        "outputId": "9fe481f1-214d-4c93-83c1-a1b2c7e83f48",
        "colab": {
          "base_uri": "https://localhost:8080/",
          "height": 139
        }
      },
      "source": [
        "df"
      ],
      "execution_count": 7,
      "outputs": [
        {
          "output_type": "execute_result",
          "data": {
            "text/html": [
              "<div>\n",
              "<style scoped>\n",
              "    .dataframe tbody tr th:only-of-type {\n",
              "        vertical-align: middle;\n",
              "    }\n",
              "\n",
              "    .dataframe tbody tr th {\n",
              "        vertical-align: top;\n",
              "    }\n",
              "\n",
              "    .dataframe thead th {\n",
              "        text-align: right;\n",
              "    }\n",
              "</style>\n",
              "<table border=\"1\" class=\"dataframe\">\n",
              "  <thead>\n",
              "    <tr style=\"text-align: right;\">\n",
              "      <th></th>\n",
              "      <th>email</th>\n",
              "      <th>email_strip</th>\n",
              "      <th>email_lstrip</th>\n",
              "      <th>email_rstrip</th>\n",
              "    </tr>\n",
              "  </thead>\n",
              "  <tbody>\n",
              "    <tr>\n",
              "      <th>0</th>\n",
              "      <td>sunny@gmail.com</td>\n",
              "      <td>sunny@gmail.com</td>\n",
              "      <td>sunny@gmail.com</td>\n",
              "      <td>sunny@gmail.com</td>\n",
              "    </tr>\n",
              "    <tr>\n",
              "      <th>1</th>\n",
              "      <td>365@NAVER.COM</td>\n",
              "      <td>365@NAVER.COM</td>\n",
              "      <td>365@NAVER.COM</td>\n",
              "      <td>365@NAVER.COM</td>\n",
              "    </tr>\n",
              "    <tr>\n",
              "      <th>2</th>\n",
              "      <td>cinema@yahoo.co.kr</td>\n",
              "      <td>cinema@yahoo.co.kr</td>\n",
              "      <td>cinema@yahoo.co.kr</td>\n",
              "      <td>cinema@yahoo.co.kr</td>\n",
              "    </tr>\n",
              "  </tbody>\n",
              "</table>\n",
              "</div>"
            ],
            "text/plain": [
              "                email  ...        email_rstrip\n",
              "0     sunny@gmail.com  ...     sunny@gmail.com\n",
              "1       365@NAVER.COM  ...       365@NAVER.COM\n",
              "2  cinema@yahoo.co.kr  ...  cinema@yahoo.co.kr\n",
              "\n",
              "[3 rows x 4 columns]"
            ]
          },
          "metadata": {
            "tags": []
          },
          "execution_count": 7
        }
      ]
    },
    {
      "cell_type": "markdown",
      "metadata": {
        "id": "Ve5l_t0D41ih"
      },
      "source": [
        "### Split\n",
        " 분할, 구분자를 이용하여 새로운 컬럼을 생성합니다.\n"
      ]
    },
    {
      "cell_type": "code",
      "metadata": {
        "id": "OmDwcK2h41ih"
      },
      "source": [
        "df = pd.DataFrame({'email':['sunny@gmail.com', \n",
        "                            '365@NAVER.COM', \n",
        "                            'cinema@yahoo.co.kr']})\n",
        "\n",
        "# split(): 구분자를 기준으로 n개로 나눈다, expand=True이면 여러 컬럼, False이면 1개 컬럼에 리스트\n",
        "df[['email_split_1','email_split_2']] = df['email'].str.split('@', n=1, expand=True)\n",
        "\n",
        "# rsplit(): split와 동일하며 우측부터 탐색하며 n개로 나눈다\n",
        "df['email_rsplit_1'] = df['email'].str.rsplit(pat='@')\n"
      ],
      "execution_count": 8,
      "outputs": []
    },
    {
      "cell_type": "code",
      "metadata": {
        "id": "MKu1sDtS41ih",
        "outputId": "5ec705be-ec5d-46e2-cf01-1639441ce006",
        "colab": {
          "base_uri": "https://localhost:8080/",
          "height": 139
        }
      },
      "source": [
        "df"
      ],
      "execution_count": 9,
      "outputs": [
        {
          "output_type": "execute_result",
          "data": {
            "text/html": [
              "<div>\n",
              "<style scoped>\n",
              "    .dataframe tbody tr th:only-of-type {\n",
              "        vertical-align: middle;\n",
              "    }\n",
              "\n",
              "    .dataframe tbody tr th {\n",
              "        vertical-align: top;\n",
              "    }\n",
              "\n",
              "    .dataframe thead th {\n",
              "        text-align: right;\n",
              "    }\n",
              "</style>\n",
              "<table border=\"1\" class=\"dataframe\">\n",
              "  <thead>\n",
              "    <tr style=\"text-align: right;\">\n",
              "      <th></th>\n",
              "      <th>email</th>\n",
              "      <th>email_split_1</th>\n",
              "      <th>email_split_2</th>\n",
              "      <th>email_rsplit_1</th>\n",
              "    </tr>\n",
              "  </thead>\n",
              "  <tbody>\n",
              "    <tr>\n",
              "      <th>0</th>\n",
              "      <td>sunny@gmail.com</td>\n",
              "      <td>sunny</td>\n",
              "      <td>gmail.com</td>\n",
              "      <td>[sunny, gmail.com]</td>\n",
              "    </tr>\n",
              "    <tr>\n",
              "      <th>1</th>\n",
              "      <td>365@NAVER.COM</td>\n",
              "      <td>365</td>\n",
              "      <td>NAVER.COM</td>\n",
              "      <td>[365, NAVER.COM]</td>\n",
              "    </tr>\n",
              "    <tr>\n",
              "      <th>2</th>\n",
              "      <td>cinema@yahoo.co.kr</td>\n",
              "      <td>cinema</td>\n",
              "      <td>yahoo.co.kr</td>\n",
              "      <td>[cinema, yahoo.co.kr]</td>\n",
              "    </tr>\n",
              "  </tbody>\n",
              "</table>\n",
              "</div>"
            ],
            "text/plain": [
              "                email email_split_1 email_split_2         email_rsplit_1\n",
              "0     sunny@gmail.com         sunny     gmail.com     [sunny, gmail.com]\n",
              "1       365@NAVER.COM           365     NAVER.COM       [365, NAVER.COM]\n",
              "2  cinema@yahoo.co.kr        cinema   yahoo.co.kr  [cinema, yahoo.co.kr]"
            ]
          },
          "metadata": {
            "tags": []
          },
          "execution_count": 9
        }
      ]
    },
    {
      "cell_type": "markdown",
      "metadata": {
        "id": "h_MeYVn741ii"
      },
      "source": [
        "### 대소문자 처리하기\n",
        "소문자, 대문자, 앞자리대문자, 소문자 대문자 뒤집기 한다."
      ]
    },
    {
      "cell_type": "code",
      "metadata": {
        "id": "QqLvKdbl41ii"
      },
      "source": [
        "df = pd.DataFrame({'email':['sunny@gmail.com', \n",
        "                            '365@NAVER.COM', \n",
        "                            'cinema@yahoo.co.kr']})\n",
        "\n",
        "df['email_lower']      = df['email'].str.lower()      # 모두 소문자로 변경\n",
        "df['email_upper']      = df['email'].str.upper()      # 모두 대문자로 변경\n",
        "df['email_capitalize'] = df['email'].str.capitalize() # 앞문자 대문자로 변경\n",
        "df['email_title']      = df['email'].str.title()      # 단위별 앞문자 대문자로 변경\n",
        "df['email_swapcase']   = df['email'].str.swapcase()   # 소문자는 대문자, 대문자는 소문자로 변경 \n"
      ],
      "execution_count": 10,
      "outputs": []
    },
    {
      "cell_type": "code",
      "metadata": {
        "id": "gXwHAfWc41ii",
        "outputId": "0f8c52d9-abd5-441a-bfd2-c65cca7eaa0d",
        "colab": {
          "base_uri": "https://localhost:8080/",
          "height": 159
        }
      },
      "source": [
        "df"
      ],
      "execution_count": 11,
      "outputs": [
        {
          "output_type": "execute_result",
          "data": {
            "text/html": [
              "<div>\n",
              "<style scoped>\n",
              "    .dataframe tbody tr th:only-of-type {\n",
              "        vertical-align: middle;\n",
              "    }\n",
              "\n",
              "    .dataframe tbody tr th {\n",
              "        vertical-align: top;\n",
              "    }\n",
              "\n",
              "    .dataframe thead th {\n",
              "        text-align: right;\n",
              "    }\n",
              "</style>\n",
              "<table border=\"1\" class=\"dataframe\">\n",
              "  <thead>\n",
              "    <tr style=\"text-align: right;\">\n",
              "      <th></th>\n",
              "      <th>email</th>\n",
              "      <th>email_lower</th>\n",
              "      <th>email_upper</th>\n",
              "      <th>email_capitalize</th>\n",
              "      <th>email_title</th>\n",
              "      <th>email_swapcase</th>\n",
              "    </tr>\n",
              "  </thead>\n",
              "  <tbody>\n",
              "    <tr>\n",
              "      <th>0</th>\n",
              "      <td>sunny@gmail.com</td>\n",
              "      <td>sunny@gmail.com</td>\n",
              "      <td>SUNNY@GMAIL.COM</td>\n",
              "      <td>Sunny@gmail.com</td>\n",
              "      <td>Sunny@Gmail.Com</td>\n",
              "      <td>SUNNY@GMAIL.COM</td>\n",
              "    </tr>\n",
              "    <tr>\n",
              "      <th>1</th>\n",
              "      <td>365@NAVER.COM</td>\n",
              "      <td>365@naver.com</td>\n",
              "      <td>365@NAVER.COM</td>\n",
              "      <td>365@naver.com</td>\n",
              "      <td>365@Naver.Com</td>\n",
              "      <td>365@naver.com</td>\n",
              "    </tr>\n",
              "    <tr>\n",
              "      <th>2</th>\n",
              "      <td>cinema@yahoo.co.kr</td>\n",
              "      <td>cinema@yahoo.co.kr</td>\n",
              "      <td>CINEMA@YAHOO.CO.KR</td>\n",
              "      <td>Cinema@yahoo.co.kr</td>\n",
              "      <td>Cinema@Yahoo.Co.Kr</td>\n",
              "      <td>CINEMA@YAHOO.CO.KR</td>\n",
              "    </tr>\n",
              "  </tbody>\n",
              "</table>\n",
              "</div>"
            ],
            "text/plain": [
              "                email  ...      email_swapcase\n",
              "0     sunny@gmail.com  ...     SUNNY@GMAIL.COM\n",
              "1       365@NAVER.COM  ...       365@naver.com\n",
              "2  cinema@yahoo.co.kr  ...  CINEMA@YAHOO.CO.KR\n",
              "\n",
              "[3 rows x 6 columns]"
            ]
          },
          "metadata": {
            "tags": []
          },
          "execution_count": 11
        }
      ]
    },
    {
      "cell_type": "markdown",
      "metadata": {
        "id": "dknCX4De41ij"
      },
      "source": [
        "###  replace\n",
        "문자열을 다른 문자열로 대체한다."
      ]
    },
    {
      "cell_type": "code",
      "metadata": {
        "id": "Q4RkyEcq41ij"
      },
      "source": [
        "df = pd.DataFrame({'email':['sunny@gmail.com', \n",
        "                            '365@NAVER.COM', \n",
        "                            'cinema@yahoo.co.kr']})\n",
        "\n",
        "# 입력 패턴 또는 글자를 대체, 예제에서는 .을 _로 변경\n",
        "df['email_replace']    = df['email'].str.replace(pat='.', repl='_', regex=False)"
      ],
      "execution_count": 12,
      "outputs": []
    },
    {
      "cell_type": "code",
      "metadata": {
        "id": "Lt6Eqsz_41ij",
        "outputId": "d2338670-660a-4229-f5b4-7da38c657d43",
        "colab": {
          "base_uri": "https://localhost:8080/",
          "height": 139
        }
      },
      "source": [
        "df"
      ],
      "execution_count": 13,
      "outputs": [
        {
          "output_type": "execute_result",
          "data": {
            "text/html": [
              "<div>\n",
              "<style scoped>\n",
              "    .dataframe tbody tr th:only-of-type {\n",
              "        vertical-align: middle;\n",
              "    }\n",
              "\n",
              "    .dataframe tbody tr th {\n",
              "        vertical-align: top;\n",
              "    }\n",
              "\n",
              "    .dataframe thead th {\n",
              "        text-align: right;\n",
              "    }\n",
              "</style>\n",
              "<table border=\"1\" class=\"dataframe\">\n",
              "  <thead>\n",
              "    <tr style=\"text-align: right;\">\n",
              "      <th></th>\n",
              "      <th>email</th>\n",
              "      <th>email_replace</th>\n",
              "    </tr>\n",
              "  </thead>\n",
              "  <tbody>\n",
              "    <tr>\n",
              "      <th>0</th>\n",
              "      <td>sunny@gmail.com</td>\n",
              "      <td>sunny@gmail_com</td>\n",
              "    </tr>\n",
              "    <tr>\n",
              "      <th>1</th>\n",
              "      <td>365@NAVER.COM</td>\n",
              "      <td>365@NAVER_COM</td>\n",
              "    </tr>\n",
              "    <tr>\n",
              "      <th>2</th>\n",
              "      <td>cinema@yahoo.co.kr</td>\n",
              "      <td>cinema@yahoo_co_kr</td>\n",
              "    </tr>\n",
              "  </tbody>\n",
              "</table>\n",
              "</div>"
            ],
            "text/plain": [
              "                email       email_replace\n",
              "0     sunny@gmail.com     sunny@gmail_com\n",
              "1       365@NAVER.COM       365@NAVER_COM\n",
              "2  cinema@yahoo.co.kr  cinema@yahoo_co_kr"
            ]
          },
          "metadata": {
            "tags": []
          },
          "execution_count": 13
        }
      ]
    },
    {
      "cell_type": "markdown",
      "metadata": {
        "id": "9kaF56Xd41ij"
      },
      "source": [
        "### find, findall\n",
        "*  `find()` : 특정 문자열을 찾아서 문자열의 index를 리턴\n",
        "* `findall()` : 특정 문자열을 찾아서 찾은 문자열을 모두 리턴"
      ]
    },
    {
      "cell_type": "code",
      "metadata": {
        "id": "ZdK_cvar41ij"
      },
      "source": [
        "df = pd.DataFrame({'email':['sunny@gmail.com', \n",
        "                            '365@NAVER.COM', \n",
        "                            'cinema@yahoo.co.kr']})\n",
        "\n",
        "df['email_find']    = df['email'].str.find(sub='.')           # 왼쪽부터 sub값 검색후 위치반환\n",
        "df['email_findall'] = df['email'].str.findall(pat='[a-zA-Z]') # 찾은 모든 값 반환"
      ],
      "execution_count": 14,
      "outputs": []
    },
    {
      "cell_type": "code",
      "metadata": {
        "id": "d8Z2dhAJ41ij",
        "outputId": "a897044b-fc10-48bb-dec7-1959abdfc350",
        "colab": {
          "base_uri": "https://localhost:8080/",
          "height": 139
        }
      },
      "source": [
        "df "
      ],
      "execution_count": 15,
      "outputs": [
        {
          "output_type": "execute_result",
          "data": {
            "text/html": [
              "<div>\n",
              "<style scoped>\n",
              "    .dataframe tbody tr th:only-of-type {\n",
              "        vertical-align: middle;\n",
              "    }\n",
              "\n",
              "    .dataframe tbody tr th {\n",
              "        vertical-align: top;\n",
              "    }\n",
              "\n",
              "    .dataframe thead th {\n",
              "        text-align: right;\n",
              "    }\n",
              "</style>\n",
              "<table border=\"1\" class=\"dataframe\">\n",
              "  <thead>\n",
              "    <tr style=\"text-align: right;\">\n",
              "      <th></th>\n",
              "      <th>email</th>\n",
              "      <th>email_find</th>\n",
              "      <th>email_findall</th>\n",
              "    </tr>\n",
              "  </thead>\n",
              "  <tbody>\n",
              "    <tr>\n",
              "      <th>0</th>\n",
              "      <td>sunny@gmail.com</td>\n",
              "      <td>11</td>\n",
              "      <td>[s, u, n, n, y, g, m, a, i, l, c, o, m]</td>\n",
              "    </tr>\n",
              "    <tr>\n",
              "      <th>1</th>\n",
              "      <td>365@NAVER.COM</td>\n",
              "      <td>9</td>\n",
              "      <td>[N, A, V, E, R, C, O, M]</td>\n",
              "    </tr>\n",
              "    <tr>\n",
              "      <th>2</th>\n",
              "      <td>cinema@yahoo.co.kr</td>\n",
              "      <td>12</td>\n",
              "      <td>[c, i, n, e, m, a, y, a, h, o, o, c, o, k, r]</td>\n",
              "    </tr>\n",
              "  </tbody>\n",
              "</table>\n",
              "</div>"
            ],
            "text/plain": [
              "                email  ...                                  email_findall\n",
              "0     sunny@gmail.com  ...        [s, u, n, n, y, g, m, a, i, l, c, o, m]\n",
              "1       365@NAVER.COM  ...                       [N, A, V, E, R, C, O, M]\n",
              "2  cinema@yahoo.co.kr  ...  [c, i, n, e, m, a, y, a, h, o, o, c, o, k, r]\n",
              "\n",
              "[3 rows x 3 columns]"
            ]
          },
          "metadata": {
            "tags": []
          },
          "execution_count": 15
        }
      ]
    },
    {
      "cell_type": "markdown",
      "metadata": {
        "id": "vceRS1pv41ik"
      },
      "source": [
        "### get, slice \n",
        "문자열의 특정 위치의 값 또는 슬라이싱을 통해 자르거나 자른 내용을 치환합니다."
      ]
    },
    {
      "cell_type": "code",
      "metadata": {
        "id": "gp-38yjF41ik"
      },
      "source": [
        "df = pd.DataFrame({'email':['sunny@gmail.com', \n",
        "                            '365@NAVER.COM', \n",
        "                            'cinema@yahoo.co.kr']})\n",
        "\n",
        "df['email_get'] = df['email'].str.get(i=0)    # 지정 위치값 반환\n",
        "df['email_slice'] = df['email'].str.slice(start=0, stop=5) # 인덱스 사이 값 반환\n"
      ],
      "execution_count": 16,
      "outputs": []
    },
    {
      "cell_type": "code",
      "metadata": {
        "id": "jcpvFUxI41ik",
        "outputId": "3e4ea007-6b03-485c-d1c1-f4f1a746e200",
        "colab": {
          "base_uri": "https://localhost:8080/",
          "height": 139
        }
      },
      "source": [
        "df"
      ],
      "execution_count": 17,
      "outputs": [
        {
          "output_type": "execute_result",
          "data": {
            "text/html": [
              "<div>\n",
              "<style scoped>\n",
              "    .dataframe tbody tr th:only-of-type {\n",
              "        vertical-align: middle;\n",
              "    }\n",
              "\n",
              "    .dataframe tbody tr th {\n",
              "        vertical-align: top;\n",
              "    }\n",
              "\n",
              "    .dataframe thead th {\n",
              "        text-align: right;\n",
              "    }\n",
              "</style>\n",
              "<table border=\"1\" class=\"dataframe\">\n",
              "  <thead>\n",
              "    <tr style=\"text-align: right;\">\n",
              "      <th></th>\n",
              "      <th>email</th>\n",
              "      <th>email_get</th>\n",
              "      <th>email_slice</th>\n",
              "    </tr>\n",
              "  </thead>\n",
              "  <tbody>\n",
              "    <tr>\n",
              "      <th>0</th>\n",
              "      <td>sunny@gmail.com</td>\n",
              "      <td>s</td>\n",
              "      <td>sunny</td>\n",
              "    </tr>\n",
              "    <tr>\n",
              "      <th>1</th>\n",
              "      <td>365@NAVER.COM</td>\n",
              "      <td>3</td>\n",
              "      <td>365@N</td>\n",
              "    </tr>\n",
              "    <tr>\n",
              "      <th>2</th>\n",
              "      <td>cinema@yahoo.co.kr</td>\n",
              "      <td>c</td>\n",
              "      <td>cinem</td>\n",
              "    </tr>\n",
              "  </tbody>\n",
              "</table>\n",
              "</div>"
            ],
            "text/plain": [
              "                email email_get email_slice\n",
              "0     sunny@gmail.com         s       sunny\n",
              "1       365@NAVER.COM         3       365@N\n",
              "2  cinema@yahoo.co.kr         c       cinem"
            ]
          },
          "metadata": {
            "tags": []
          },
          "execution_count": 17
        }
      ]
    },
    {
      "cell_type": "markdown",
      "metadata": {
        "id": "869cl_ur41ik"
      },
      "source": [
        "### len, count\n",
        "* `len()` : 문자열의 길이를 리턴\n",
        "* `count()` : 패턴에 맞는 문자열의 개수를 리턴"
      ]
    },
    {
      "cell_type": "code",
      "metadata": {
        "id": "AmZcTC8P41ik"
      },
      "source": [
        "df = pd.DataFrame({'email':['sunny@gmail.com', \n",
        "                            '365@NAVER.COM', \n",
        "                            'cinema@yahoo.co.kr']})\n",
        "\n",
        "df['email_len']   = df['email'].str.len()              # 길이 반환\n",
        "df['email_count'] = df['email'].str.count(pat='[0-9]') # 문자열 중 패턴에 일치한 수 반환"
      ],
      "execution_count": 18,
      "outputs": []
    },
    {
      "cell_type": "code",
      "metadata": {
        "id": "R6WAtuiC41ik",
        "outputId": "c9cce7cc-10d8-4455-9b50-f627164aa959",
        "colab": {
          "base_uri": "https://localhost:8080/",
          "height": 139
        }
      },
      "source": [
        "df"
      ],
      "execution_count": 19,
      "outputs": [
        {
          "output_type": "execute_result",
          "data": {
            "text/html": [
              "<div>\n",
              "<style scoped>\n",
              "    .dataframe tbody tr th:only-of-type {\n",
              "        vertical-align: middle;\n",
              "    }\n",
              "\n",
              "    .dataframe tbody tr th {\n",
              "        vertical-align: top;\n",
              "    }\n",
              "\n",
              "    .dataframe thead th {\n",
              "        text-align: right;\n",
              "    }\n",
              "</style>\n",
              "<table border=\"1\" class=\"dataframe\">\n",
              "  <thead>\n",
              "    <tr style=\"text-align: right;\">\n",
              "      <th></th>\n",
              "      <th>email</th>\n",
              "      <th>email_len</th>\n",
              "      <th>email_count</th>\n",
              "    </tr>\n",
              "  </thead>\n",
              "  <tbody>\n",
              "    <tr>\n",
              "      <th>0</th>\n",
              "      <td>sunny@gmail.com</td>\n",
              "      <td>15</td>\n",
              "      <td>0</td>\n",
              "    </tr>\n",
              "    <tr>\n",
              "      <th>1</th>\n",
              "      <td>365@NAVER.COM</td>\n",
              "      <td>13</td>\n",
              "      <td>3</td>\n",
              "    </tr>\n",
              "    <tr>\n",
              "      <th>2</th>\n",
              "      <td>cinema@yahoo.co.kr</td>\n",
              "      <td>18</td>\n",
              "      <td>0</td>\n",
              "    </tr>\n",
              "  </tbody>\n",
              "</table>\n",
              "</div>"
            ],
            "text/plain": [
              "                email  email_len  email_count\n",
              "0     sunny@gmail.com         15            0\n",
              "1       365@NAVER.COM         13            3\n",
              "2  cinema@yahoo.co.kr         18            0"
            ]
          },
          "metadata": {
            "tags": []
          },
          "execution_count": 19
        }
      ]
    },
    {
      "cell_type": "markdown",
      "metadata": {
        "id": "B_vd2Xqt41im"
      },
      "source": [
        "### 패턴 일치 확인하기\n",
        "\n",
        "문자열의 시작 값 또는 종료 값 또는 특정 패턴과 일치하는 경우를 찾아낸다.\n",
        "\n",
        "* `startswith()` : 특정 문자열로 시작 여부\n",
        "* `endswith()` : 특정 문자열로 종료 여부\n",
        "* `contains()` : 특정 문자열을 포함 여부\n",
        "* `match()` : 특정 패턴과 일치하는지 여부"
      ]
    },
    {
      "cell_type": "code",
      "metadata": {
        "id": "zEPRKm_P41im"
      },
      "source": [
        "df = pd.DataFrame({'email':['sunny@gmail.com', \n",
        "                            '365@NAVER.COM', \n",
        "                            'cinema@yahoo.co.kr']})\n",
        "\n",
        "df['email_startswith'] = df['email'].str.startswith(pat='s')     # 시작값이 입력패턴과 일치 여부\n",
        "df['email_endswith']   = df['email'].str.endswith(pat='com')     # 종료값이 입력패턴과 일치 여부\n",
        "df['email_contains']   = df['email'].str.contains(pat='kr', regex=False) # 값 중 패턴포함 여부\n",
        "df['email_match']      = df['email'].str.match(pat='[a-zA-Z@.]') # 입력패턴과 일치 여부"
      ],
      "execution_count": 20,
      "outputs": []
    },
    {
      "cell_type": "code",
      "metadata": {
        "id": "BBP_l2Ck41im",
        "outputId": "c3dd6955-d0d6-485d-f2cc-a8610f9075a9",
        "colab": {
          "base_uri": "https://localhost:8080/",
          "height": 139
        }
      },
      "source": [
        "df"
      ],
      "execution_count": 21,
      "outputs": [
        {
          "output_type": "execute_result",
          "data": {
            "text/html": [
              "<div>\n",
              "<style scoped>\n",
              "    .dataframe tbody tr th:only-of-type {\n",
              "        vertical-align: middle;\n",
              "    }\n",
              "\n",
              "    .dataframe tbody tr th {\n",
              "        vertical-align: top;\n",
              "    }\n",
              "\n",
              "    .dataframe thead th {\n",
              "        text-align: right;\n",
              "    }\n",
              "</style>\n",
              "<table border=\"1\" class=\"dataframe\">\n",
              "  <thead>\n",
              "    <tr style=\"text-align: right;\">\n",
              "      <th></th>\n",
              "      <th>email</th>\n",
              "      <th>email_startswith</th>\n",
              "      <th>email_endswith</th>\n",
              "      <th>email_contains</th>\n",
              "      <th>email_match</th>\n",
              "    </tr>\n",
              "  </thead>\n",
              "  <tbody>\n",
              "    <tr>\n",
              "      <th>0</th>\n",
              "      <td>sunny@gmail.com</td>\n",
              "      <td>True</td>\n",
              "      <td>True</td>\n",
              "      <td>False</td>\n",
              "      <td>True</td>\n",
              "    </tr>\n",
              "    <tr>\n",
              "      <th>1</th>\n",
              "      <td>365@NAVER.COM</td>\n",
              "      <td>False</td>\n",
              "      <td>False</td>\n",
              "      <td>False</td>\n",
              "      <td>False</td>\n",
              "    </tr>\n",
              "    <tr>\n",
              "      <th>2</th>\n",
              "      <td>cinema@yahoo.co.kr</td>\n",
              "      <td>False</td>\n",
              "      <td>False</td>\n",
              "      <td>True</td>\n",
              "      <td>True</td>\n",
              "    </tr>\n",
              "  </tbody>\n",
              "</table>\n",
              "</div>"
            ],
            "text/plain": [
              "                email  email_startswith  ...  email_contains  email_match\n",
              "0     sunny@gmail.com              True  ...           False         True\n",
              "1       365@NAVER.COM             False  ...           False        False\n",
              "2  cinema@yahoo.co.kr             False  ...            True         True\n",
              "\n",
              "[3 rows x 5 columns]"
            ]
          },
          "metadata": {
            "tags": []
          },
          "execution_count": 21
        }
      ]
    },
    {
      "cell_type": "markdown",
      "metadata": {
        "id": "xUsVWHY241im"
      },
      "source": [
        "### 특정 문자열의 추출하기\n",
        "\n",
        "정규식을 사용하여 매치되는 문자열을 추출할 수 있다."
      ]
    },
    {
      "cell_type": "code",
      "metadata": {
        "id": "dxt6blDU41im",
        "outputId": "db78cd04-ebca-4461-fd69-7904533e27c4",
        "colab": {
          "base_uri": "https://localhost:8080/"
        }
      },
      "source": [
        "data = {'Dave': 'dave@google.com', 'Steve': 'steve@gmail.com','Rob': 'rob@gmail.com', 'Wes': np.nan}\n",
        "data = pd.Series(data)\n",
        "data"
      ],
      "execution_count": 22,
      "outputs": [
        {
          "output_type": "execute_result",
          "data": {
            "text/plain": [
              "Dave     dave@google.com\n",
              "Steve    steve@gmail.com\n",
              "Rob        rob@gmail.com\n",
              "Wes                  NaN\n",
              "dtype: object"
            ]
          },
          "metadata": {
            "tags": []
          },
          "execution_count": 22
        }
      ]
    },
    {
      "cell_type": "code",
      "metadata": {
        "id": "H64k1zdU41in"
      },
      "source": [
        "# 특정 패턴을 정규식으로 표현할 수 있다.\n",
        "pattern = '([A-Z0-9._%+-]+)@([A-Z0-9.-]+)\\\\.([A-Z]{2,4})'"
      ],
      "execution_count": 23,
      "outputs": []
    },
    {
      "cell_type": "code",
      "metadata": {
        "id": "xov7fjyA41in",
        "outputId": "20eca9f2-eaaa-4127-ca5b-4144c4d849bd",
        "colab": {
          "base_uri": "https://localhost:8080/",
          "height": 170
        }
      },
      "source": [
        "# 특정 패턴을 만족하는 문자열을 추출한다.\n",
        "data.str.extract(pattern, flags=re.IGNORECASE)"
      ],
      "execution_count": 24,
      "outputs": [
        {
          "output_type": "execute_result",
          "data": {
            "text/html": [
              "<div>\n",
              "<style scoped>\n",
              "    .dataframe tbody tr th:only-of-type {\n",
              "        vertical-align: middle;\n",
              "    }\n",
              "\n",
              "    .dataframe tbody tr th {\n",
              "        vertical-align: top;\n",
              "    }\n",
              "\n",
              "    .dataframe thead th {\n",
              "        text-align: right;\n",
              "    }\n",
              "</style>\n",
              "<table border=\"1\" class=\"dataframe\">\n",
              "  <thead>\n",
              "    <tr style=\"text-align: right;\">\n",
              "      <th></th>\n",
              "      <th>0</th>\n",
              "      <th>1</th>\n",
              "      <th>2</th>\n",
              "    </tr>\n",
              "  </thead>\n",
              "  <tbody>\n",
              "    <tr>\n",
              "      <th>Dave</th>\n",
              "      <td>dave</td>\n",
              "      <td>google</td>\n",
              "      <td>com</td>\n",
              "    </tr>\n",
              "    <tr>\n",
              "      <th>Steve</th>\n",
              "      <td>steve</td>\n",
              "      <td>gmail</td>\n",
              "      <td>com</td>\n",
              "    </tr>\n",
              "    <tr>\n",
              "      <th>Rob</th>\n",
              "      <td>rob</td>\n",
              "      <td>gmail</td>\n",
              "      <td>com</td>\n",
              "    </tr>\n",
              "    <tr>\n",
              "      <th>Wes</th>\n",
              "      <td>NaN</td>\n",
              "      <td>NaN</td>\n",
              "      <td>NaN</td>\n",
              "    </tr>\n",
              "  </tbody>\n",
              "</table>\n",
              "</div>"
            ],
            "text/plain": [
              "           0       1    2\n",
              "Dave    dave  google  com\n",
              "Steve  steve   gmail  com\n",
              "Rob      rob   gmail  com\n",
              "Wes      NaN     NaN  NaN"
            ]
          },
          "metadata": {
            "tags": []
          },
          "execution_count": 24
        }
      ]
    },
    {
      "cell_type": "code",
      "metadata": {
        "id": "x7-k6A2-41io",
        "outputId": "c6c49d49-93c3-45ac-df8b-276fa6c7fce0",
        "colab": {
          "base_uri": "https://localhost:8080/"
        }
      },
      "source": [
        "# 특정 패턴의 특정 요소를 index로 access\n",
        "data.str.extract(pattern, flags=re.IGNORECASE).get(0)"
      ],
      "execution_count": 25,
      "outputs": [
        {
          "output_type": "execute_result",
          "data": {
            "text/plain": [
              "Dave      dave\n",
              "Steve    steve\n",
              "Rob        rob\n",
              "Wes        NaN\n",
              "Name: 0, dtype: object"
            ]
          },
          "metadata": {
            "tags": []
          },
          "execution_count": 25
        }
      ]
    },
    {
      "cell_type": "markdown",
      "metadata": {
        "id": "LLGXxbNq41io"
      },
      "source": [
        "# 실습하기\n",
        "\n",
        "titanic 파일을 읽어 들이고 다음의 실습 문제를 해결하시오."
      ]
    },
    {
      "cell_type": "code",
      "metadata": {
        "id": "4FQpbN-Q41io"
      },
      "source": [
        "titanic = pd.read_csv('../data/titanic.csv')\n",
        "titanic.head()"
      ],
      "execution_count": null,
      "outputs": []
    },
    {
      "cell_type": "markdown",
      "metadata": {
        "id": "kH8PU33l41io"
      },
      "source": [
        "**문제1**  \n",
        "Name 컬럼을 소문자로 변경하여 출력하시오."
      ]
    },
    {
      "cell_type": "code",
      "metadata": {
        "id": "YfK94CUx41ip"
      },
      "source": [
        ""
      ],
      "execution_count": null,
      "outputs": []
    },
    {
      "cell_type": "markdown",
      "metadata": {
        "id": "7J6h7xNp41ip"
      },
      "source": [
        "**문제2**  \n",
        "Embarked 컬럼을 다음과 같이 변경하여 출력하시오. \n",
        "* C = Cherbourg\n",
        "* Q = Queenstown\n",
        "* S = Southampton\n"
      ]
    },
    {
      "cell_type": "code",
      "metadata": {
        "id": "qaFUp4mh41ip"
      },
      "source": [
        ""
      ],
      "execution_count": null,
      "outputs": []
    },
    {
      "cell_type": "markdown",
      "metadata": {
        "id": "EffnrOXk41ip"
      },
      "source": [
        "**문제3**  \n",
        "Name 컬럼에서 이름(first name)부분만 출력하시오."
      ]
    },
    {
      "cell_type": "code",
      "metadata": {
        "id": "ocXfmbxT41ip"
      },
      "source": [
        ""
      ],
      "execution_count": null,
      "outputs": []
    },
    {
      "cell_type": "markdown",
      "metadata": {
        "id": "5_NZe8gg41ip"
      },
      "source": [
        "**문제 4**  \n",
        "데이터에서 제공되는 승객들의 이름에는 Title이 존재한다. 예를 들면, Heikkinen, Miss. Laina라는 이름에는 Miss라는 Title이 있다. Name에서 title 부분만 추출하시오."
      ]
    },
    {
      "cell_type": "code",
      "metadata": {
        "id": "FfCD8Kyg41ip"
      },
      "source": [
        ""
      ],
      "execution_count": null,
      "outputs": []
    }
  ]
}